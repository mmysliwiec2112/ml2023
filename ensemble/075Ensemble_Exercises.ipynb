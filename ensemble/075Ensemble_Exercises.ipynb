{
 "cells": [
  {
   "cell_type": "markdown",
   "metadata": {},
   "source": [
    "# Ensemble methods. Exercises\n",
    "\n",
    "\n",
    "In this section we have only two exercise:\n",
    "\n",
    "1. Find the best three classifier in the stacking method using the classifiers from scikit-learn package.\n",
    "\n",
    "2. Build arcing arc-x4 method. "
   ]
  },
  {
   "cell_type": "code",
   "execution_count": 2,
   "metadata": {},
   "outputs": [],
   "source": [
    "%store -r data_set\n",
    "%store -r labels\n",
    "%store -r test_data_set\n",
    "%store -r test_labels\n",
    "%store -r unique_labels"
   ]
  },
  {
   "cell_type": "markdown",
   "metadata": {},
   "source": [
    "## Exercise 1: Find the best three classifier in the stacking method\n",
    "\n",
    "Please use the following classifiers:\n",
    "\n",
    "* Linear regression,\n",
    "* Nearest Neighbors,\n",
    "* Linear SVM,\n",
    "* Decision Tree,\n",
    "* Naive Bayes,\n",
    "* QDA."
   ]
  },
  {
   "cell_type": "code",
   "execution_count": 3,
   "metadata": {},
   "outputs": [],
   "source": [
    "import numpy as np\n",
    "from sklearn.metrics import accuracy_score\n",
    "\n",
    "from sklearn.linear_model import LinearRegression\n",
    "from sklearn.neighbors import KNeighborsClassifier\n",
    "from sklearn.svm import SVC\n",
    "from sklearn.tree import DecisionTreeClassifier\n",
    "from sklearn.naive_bayes import GaussianNB\n",
    "from sklearn.discriminant_analysis import QuadraticDiscriminantAnalysis"
   ]
  },
  {
   "cell_type": "code",
   "execution_count": 4,
   "metadata": {},
   "outputs": [],
   "source": [
    "def test_classifiers():\n",
    "    lreg = LinearRegression()\n",
    "    lreg.fit(data_set, labels)\n",
    "\n",
    "    knn = KNeighborsClassifier()\n",
    "    knn.fit(data_set, labels)\n",
    "\n",
    "    svc = SVC()\n",
    "    svc.fit(data_set,labels)\n",
    "\n",
    "    dt = DecisionTreeClassifier()\n",
    "    dt.fit(data_set,labels)\n",
    "\n",
    "    nb = GaussianNB()\n",
    "    nb.fit(data_set,labels)\n",
    "\n",
    "    qda = QuadraticDiscriminantAnalysis()\n",
    "    qda.fit(data_set,labels)\n",
    "\n",
    "    return lreg, knn, svc, dt, nb, qda"
   ]
  },
  {
   "cell_type": "code",
   "execution_count": 5,
   "outputs": [
    {
     "data": {
      "text/plain": "<Figure size 640x480 with 1 Axes>",
      "image/png": "[encoded data removed]"
     },
     "metadata": {},
     "output_type": "display_data"
    }
   ],
   "source": [
    "def calculate_accuracy_vector(predicted, labels):\n",
    "    result = []\n",
    "    for i in range(len(predicted)):\n",
    "        if predicted[i] == labels[i]:\n",
    "            result.append(1)\n",
    "        else:\n",
    "            result.append(0)\n",
    "    return result\n",
    "\n",
    "def build_grading_classifier(classifiers):\n",
    "    output = []\n",
    "    matrix = []\n",
    "    for classifier in classifiers:\n",
    "        predicted = classifier.predict(data_set)\n",
    "        output.append(predicted)\n",
    "        matrix.append(calculate_accuracy_vector(predicted,labels))\n",
    "\n",
    "    grading_classifiers = []\n",
    "    for i in range(len(classifiers)):\n",
    "        tree = DecisionTreeClassifier()\n",
    "        tree.fit(data_set, matrix[i])\n",
    "        grading_classifiers.append(tree)\n",
    "    return grading_classifiers\n",
    "\n",
    "def test_prediction(classifiers, grading_classifiers, i):\n",
    "    prediction = classifiers[i].predict(test_data_set)\n",
    "    grad = grading_classifiers[i].predict(test_data_set)\n",
    "    return prediction, grad\n",
    "\n",
    "classifiers = test_classifiers()\n",
    "grading_classifiers = build_grading_classifier(classifiers)\n",
    "names = ['lreg', 'knn', 'svc', 'dt', 'nb', 'qda']\n",
    "sums_grad = []\n",
    "for i in range(len(classifiers)):\n",
    "    prediction, grad = test_prediction(classifiers, grading_classifiers, i)\n",
    "    # print(f'scores for the {names[i]} model: {prediction}\\n{grad}\\n{test_labels}\\nsum of scores:{sum(grad)}')\n",
    "    sums_grad.append(sum(grad))\n",
    "\n",
    "import matplotlib.pyplot as plt\n",
    "plt.bar(names, sums_grad)\n",
    "plt.show()"
   ],
   "metadata": {
    "collapsed": false
   }
  },
  {
   "cell_type": "code",
   "execution_count": 6,
   "outputs": [],
   "source": [
    "def build_classifiers():\n",
    "    knn = KNeighborsClassifier()\n",
    "    knn.fit(data_set, labels)\n",
    "\n",
    "    dt = DecisionTreeClassifier()\n",
    "    dt.fit(data_set,labels)\n",
    "\n",
    "    svc = SVC()\n",
    "    svc.fit(data_set, labels)\n",
    "\n",
    "    return knn, dt, svc\n",
    "# lreg, qda, svc,"
   ],
   "metadata": {
    "collapsed": false
   }
  },
  {
   "cell_type": "code",
   "execution_count": 7,
   "metadata": {},
   "outputs": [],
   "source": [
    "def build_stacked_classifier(classifiers, stacked_classifier):\n",
    "    output = []\n",
    "    # print(classifiers)\n",
    "    for classifier in classifiers:\n",
    "        output.append(classifier.predict(data_set))\n",
    "    output = np.array(output).reshape((130,3))\n",
    "    \n",
    "    # stacked classifier part:\n",
    "    # stacked_classifier = SVC()\n",
    "    stacked_classifier.fit(output.reshape((130,3)), labels.reshape((130,)))\n",
    "    test_set = []\n",
    "    for classifier in classifiers:\n",
    "        test_set.append(classifier.predict(test_data_set))\n",
    "    test_set = np.array(test_set).reshape((len(test_set[0]),3))\n",
    "    predicted = stacked_classifier.predict(test_set)\n",
    "    return predicted"
   ]
  },
  {
   "cell_type": "code",
   "execution_count": 8,
   "outputs": [
    {
     "name": "stdout",
     "output_type": "stream",
     "text": [
      "0.1\n",
      "0.1\n",
      "0.0\n",
      "0.15\n",
      "1.0\n"
     ]
    },
    {
     "name": "stderr",
     "output_type": "stream",
     "text": [
      "D:\\Anaconda\\envs\\ml\\lib\\site-packages\\sklearn\\discriminant_analysis.py:926: UserWarning: Variables are collinear\n",
      "  warnings.warn(\"Variables are collinear\")\n"
     ]
    }
   ],
   "source": [
    "classifiers = build_classifiers()\n",
    "lreg = LinearRegression()\n",
    "qda = QuadraticDiscriminantAnalysis()\n",
    "svc = SVC()\n",
    "knn = KNeighborsClassifier()\n",
    "dt = DecisionTreeClassifier()\n",
    "nb = GaussianNB()\n",
    "for meta_classifier in [qda, svc, knn, dt, nb]:\n",
    "    predicted = build_stacked_classifier(classifiers, meta_classifier)\n",
    "    accuracy = accuracy_score(test_labels, predicted)\n",
    "    print(accuracy)"
   ],
   "metadata": {
    "collapsed": false
   }
  },
  {
   "cell_type": "code",
   "execution_count": 9,
   "metadata": {},
   "outputs": [],
   "source": [
    "import numpy as np\n",
    "from sklearn.tree import DecisionTreeClassifier\n",
    "\n",
    "# prepare data set\n",
    "\n",
    "def generate_data(sample_number, feature_number, label_number):\n",
    "    data_set = np.random.random_sample((sample_number, feature_number))\n",
    "    labels = np.random.choice(label_number, sample_number)\n",
    "    return data_set, labels\n",
    "\n",
    "# labels = 2\n",
    "dimension = 2\n",
    "test_set_size = 1000\n",
    "train_set_size = 5000\n",
    "train_set, train_labels = generate_data(train_set_size, dimension, labels)\n",
    "test_set, test_labels = generate_data(test_set_size, dimension, labels)\n",
    "\n",
    "# init weights\n",
    "# number_of_iterations = 10\n",
    "# weights = np.ones((test_set_size,)) / test_set_size\n",
    "\n",
    "def calculate_accuracy_vector(predicted, labels):\n",
    "    result = []\n",
    "    for i in range(len(predicted)):\n",
    "        if predicted[i] == labels[i]:\n",
    "            result.append(0)\n",
    "        else:\n",
    "            result.append(1)\n",
    "    return result\n",
    "\n",
    "def train_model(classifier, weights):\n",
    "    return classifier.fit(X=test_set, y=test_labels, sample_weight=weights)\n",
    "\n",
    "def calculate_error(model):\n",
    "    predicted = model.predict(test_set)\n",
    "    I=calculate_accuracy_vector(predicted, test_labels)\n",
    "    Z=np.sum(I)\n",
    "    return (1+Z)/1.0"
   ]
  },
  {
   "cell_type": "markdown",
   "metadata": {},
   "source": [
    "Fill the two functions below:"
   ]
  },
  {
   "cell_type": "markdown",
   "source": [
    "## Exercise 2:\n",
    "\n",
    "Use the boosting method and change the code to fullfilt the following requirements:\n",
    "\n",
    "* the weights should be calculated as:\n",
    "$w_{n}^{(t+1)}=\\frac{1+ I(y_{n}\\neq h_{t}(x_{n}))}{\\sum_{i=1}^{N}1+I(y_{i}\\neq h_{t}(x_{i}))}$,\n",
    "* the prediction is done with a voting method."
   ],
   "metadata": {
    "collapsed": false
   }
  },
  {
   "cell_type": "code",
   "execution_count": 10,
   "metadata": {},
   "outputs": [],
   "source": [
    "def set_new_weights(model):\n",
    "    results = np.array(calculate_accuracy_vector(model.predict(test_set), test_labels))\n",
    "    new_weights = (1 + results) / (sum([result for result in results]) * 1.0)\n",
    "    return new_weights"
   ]
  },
  {
   "cell_type": "markdown",
   "metadata": {},
   "source": [
    "Train the classifier with the code below:"
   ]
  },
  {
   "cell_type": "code",
   "execution_count": 34,
   "metadata": {},
   "outputs": [
    {
     "name": "stdout",
     "output_type": "stream",
     "text": [
      "[0.001 0.001 0.001 0.001 0.001 0.001 0.001 0.001 0.001 0.001 0.001 0.001\n",
      " 0.001 0.001 0.001 0.001 0.001 0.001 0.001 0.001 0.001 0.001 0.001 0.001\n",
      " 0.001 0.001 0.001 0.001 0.001 0.001 0.001 0.001 0.001 0.001 0.001 0.001\n",
      " 0.001 0.001 0.001 0.001 0.001 0.001 0.001 0.001 0.001 0.001 0.001 0.001\n",
      " 0.001 0.001 0.001 0.001 0.001 0.001 0.001 0.001 0.001 0.001 0.001 0.001\n",
      " 0.001 0.001 0.001 0.001 0.001 0.001 0.001 0.001 0.001 0.001 0.001 0.001\n",
      " 0.001 0.001 0.001 0.001 0.001 0.001 0.001 0.001 0.001 0.001 0.001 0.001\n",
      " 0.001 0.001 0.001 0.001 0.001 0.001 0.001 0.001 0.001 0.001 0.001 0.001\n",
      " 0.001 0.001 0.001 0.001]\n",
      "[0.0033389  0.0033389  0.0033389  0.0033389  0.00166945 0.0033389\n",
      " 0.00166945 0.0033389  0.00166945 0.0033389  0.0033389  0.00166945\n",
      " 0.0033389  0.0033389  0.0033389  0.0033389  0.0033389  0.0033389\n",
      " 0.0033389  0.0033389  0.0033389  0.00166945 0.00166945 0.0033389\n",
      " 0.00166945 0.0033389  0.0033389  0.00166945 0.0033389  0.0033389\n",
      " 0.0033389  0.0033389  0.0033389  0.0033389  0.00166945 0.00166945\n",
      " 0.0033389  0.0033389  0.00166945 0.0033389  0.00166945 0.0033389\n",
      " 0.00166945 0.0033389  0.00166945 0.00166945 0.0033389  0.00166945\n",
      " 0.00166945 0.0033389  0.0033389  0.0033389  0.0033389  0.00166945\n",
      " 0.0033389  0.0033389  0.00166945 0.0033389  0.0033389  0.0033389\n",
      " 0.0033389  0.0033389  0.00166945 0.00166945 0.00166945 0.00166945\n",
      " 0.0033389  0.0033389  0.0033389  0.0033389  0.00166945 0.00166945\n",
      " 0.00166945 0.0033389  0.0033389  0.00166945 0.0033389  0.00166945\n",
      " 0.0033389  0.00166945 0.0033389  0.00166945 0.0033389  0.0033389\n",
      " 0.00166945 0.0033389  0.00166945 0.00166945 0.0033389  0.0033389\n",
      " 0.00166945 0.0033389  0.00166945 0.00166945 0.00166945 0.0033389\n",
      " 0.0033389  0.0033389  0.0033389  0.0033389 ]\n",
      "[0.00157729 0.00157729 0.00157729 0.00157729 0.00315457 0.00315457\n",
      " 0.00315457 0.00315457 0.00315457 0.00157729 0.00157729 0.00315457\n",
      " 0.00315457 0.00315457 0.00157729 0.00157729 0.00157729 0.00315457\n",
      " 0.00157729 0.00157729 0.00315457 0.00315457 0.00315457 0.00315457\n",
      " 0.00315457 0.00315457 0.00315457 0.00315457 0.00315457 0.00157729\n",
      " 0.00315457 0.00157729 0.00157729 0.00157729 0.00315457 0.00315457\n",
      " 0.00157729 0.00315457 0.00315457 0.00157729 0.00315457 0.00315457\n",
      " 0.00315457 0.00315457 0.00315457 0.00315457 0.00157729 0.00315457\n",
      " 0.00315457 0.00157729 0.00315457 0.00315457 0.00157729 0.00315457\n",
      " 0.00315457 0.00157729 0.00315457 0.00315457 0.00157729 0.00157729\n",
      " 0.00315457 0.00157729 0.00315457 0.00315457 0.00315457 0.00157729\n",
      " 0.00315457 0.00315457 0.00157729 0.00157729 0.00315457 0.00315457\n",
      " 0.00315457 0.00315457 0.00315457 0.00315457 0.00315457 0.00315457\n",
      " 0.00315457 0.00315457 0.00157729 0.00315457 0.00157729 0.00157729\n",
      " 0.00315457 0.00157729 0.00315457 0.00315457 0.00157729 0.00315457\n",
      " 0.00315457 0.00157729 0.00315457 0.00315457 0.00315457 0.00157729\n",
      " 0.00315457 0.00315457 0.00157729 0.00157729]\n",
      "[0.0033389  0.0033389  0.0033389  0.0033389  0.00166945 0.0033389\n",
      " 0.00166945 0.0033389  0.00166945 0.0033389  0.0033389  0.00166945\n",
      " 0.0033389  0.0033389  0.0033389  0.0033389  0.0033389  0.0033389\n",
      " 0.0033389  0.0033389  0.0033389  0.00166945 0.00166945 0.0033389\n",
      " 0.00166945 0.0033389  0.0033389  0.00166945 0.0033389  0.0033389\n",
      " 0.0033389  0.0033389  0.0033389  0.0033389  0.00166945 0.00166945\n",
      " 0.0033389  0.0033389  0.00166945 0.0033389  0.00166945 0.0033389\n",
      " 0.00166945 0.0033389  0.00166945 0.00166945 0.0033389  0.00166945\n",
      " 0.00166945 0.0033389  0.0033389  0.0033389  0.0033389  0.00166945\n",
      " 0.0033389  0.0033389  0.00166945 0.0033389  0.0033389  0.0033389\n",
      " 0.0033389  0.0033389  0.00166945 0.00166945 0.00166945 0.00166945\n",
      " 0.0033389  0.0033389  0.0033389  0.0033389  0.00166945 0.00166945\n",
      " 0.00166945 0.0033389  0.0033389  0.00166945 0.0033389  0.00166945\n",
      " 0.0033389  0.00166945 0.0033389  0.00166945 0.0033389  0.0033389\n",
      " 0.00166945 0.0033389  0.00166945 0.00166945 0.0033389  0.0033389\n",
      " 0.00166945 0.0033389  0.00166945 0.00166945 0.00166945 0.0033389\n",
      " 0.0033389  0.0033389  0.0033389  0.0033389 ]\n",
      "[0.00157729 0.00157729 0.00157729 0.00157729 0.00315457 0.00315457\n",
      " 0.00315457 0.00315457 0.00315457 0.00157729 0.00157729 0.00315457\n",
      " 0.00315457 0.00315457 0.00157729 0.00157729 0.00157729 0.00315457\n",
      " 0.00157729 0.00157729 0.00315457 0.00315457 0.00315457 0.00315457\n",
      " 0.00315457 0.00315457 0.00315457 0.00315457 0.00315457 0.00157729\n",
      " 0.00315457 0.00157729 0.00157729 0.00157729 0.00315457 0.00315457\n",
      " 0.00157729 0.00315457 0.00315457 0.00157729 0.00315457 0.00315457\n",
      " 0.00315457 0.00315457 0.00315457 0.00315457 0.00157729 0.00315457\n",
      " 0.00315457 0.00157729 0.00315457 0.00315457 0.00157729 0.00315457\n",
      " 0.00315457 0.00157729 0.00315457 0.00315457 0.00157729 0.00157729\n",
      " 0.00315457 0.00157729 0.00315457 0.00315457 0.00315457 0.00157729\n",
      " 0.00315457 0.00315457 0.00157729 0.00157729 0.00315457 0.00315457\n",
      " 0.00315457 0.00315457 0.00315457 0.00315457 0.00315457 0.00315457\n",
      " 0.00315457 0.00315457 0.00157729 0.00315457 0.00157729 0.00157729\n",
      " 0.00315457 0.00157729 0.00315457 0.00315457 0.00157729 0.00315457\n",
      " 0.00315457 0.00157729 0.00315457 0.00315457 0.00315457 0.00157729\n",
      " 0.00315457 0.00315457 0.00157729 0.00157729]\n",
      "[0.0033389  0.0033389  0.0033389  0.0033389  0.00166945 0.0033389\n",
      " 0.00166945 0.0033389  0.00166945 0.0033389  0.0033389  0.00166945\n",
      " 0.0033389  0.0033389  0.0033389  0.0033389  0.0033389  0.0033389\n",
      " 0.0033389  0.0033389  0.0033389  0.00166945 0.00166945 0.0033389\n",
      " 0.00166945 0.0033389  0.0033389  0.00166945 0.0033389  0.0033389\n",
      " 0.0033389  0.0033389  0.0033389  0.0033389  0.00166945 0.00166945\n",
      " 0.0033389  0.0033389  0.00166945 0.0033389  0.00166945 0.0033389\n",
      " 0.00166945 0.0033389  0.00166945 0.00166945 0.0033389  0.00166945\n",
      " 0.00166945 0.0033389  0.0033389  0.0033389  0.0033389  0.00166945\n",
      " 0.0033389  0.0033389  0.00166945 0.0033389  0.0033389  0.0033389\n",
      " 0.0033389  0.0033389  0.00166945 0.00166945 0.00166945 0.00166945\n",
      " 0.0033389  0.0033389  0.0033389  0.0033389  0.00166945 0.00166945\n",
      " 0.00166945 0.0033389  0.0033389  0.00166945 0.0033389  0.00166945\n",
      " 0.0033389  0.00166945 0.0033389  0.00166945 0.0033389  0.0033389\n",
      " 0.00166945 0.0033389  0.00166945 0.00166945 0.0033389  0.0033389\n",
      " 0.00166945 0.0033389  0.00166945 0.00166945 0.00166945 0.0033389\n",
      " 0.0033389  0.0033389  0.0033389  0.0033389 ]\n",
      "[0.00157729 0.00157729 0.00157729 0.00157729 0.00315457 0.00315457\n",
      " 0.00315457 0.00315457 0.00315457 0.00157729 0.00157729 0.00315457\n",
      " 0.00315457 0.00315457 0.00157729 0.00157729 0.00157729 0.00315457\n",
      " 0.00157729 0.00157729 0.00315457 0.00315457 0.00315457 0.00315457\n",
      " 0.00315457 0.00315457 0.00315457 0.00315457 0.00315457 0.00157729\n",
      " 0.00315457 0.00157729 0.00157729 0.00157729 0.00315457 0.00315457\n",
      " 0.00157729 0.00315457 0.00315457 0.00157729 0.00315457 0.00315457\n",
      " 0.00315457 0.00315457 0.00315457 0.00315457 0.00157729 0.00315457\n",
      " 0.00315457 0.00157729 0.00315457 0.00315457 0.00157729 0.00315457\n",
      " 0.00315457 0.00157729 0.00315457 0.00315457 0.00157729 0.00157729\n",
      " 0.00315457 0.00157729 0.00315457 0.00315457 0.00315457 0.00157729\n",
      " 0.00315457 0.00315457 0.00157729 0.00157729 0.00315457 0.00315457\n",
      " 0.00315457 0.00315457 0.00315457 0.00315457 0.00315457 0.00315457\n",
      " 0.00315457 0.00315457 0.00157729 0.00315457 0.00157729 0.00157729\n",
      " 0.00315457 0.00157729 0.00315457 0.00315457 0.00157729 0.00315457\n",
      " 0.00315457 0.00157729 0.00315457 0.00315457 0.00315457 0.00157729\n",
      " 0.00315457 0.00315457 0.00157729 0.00157729]\n",
      "[0.0033389  0.0033389  0.0033389  0.0033389  0.00166945 0.0033389\n",
      " 0.00166945 0.0033389  0.00166945 0.0033389  0.0033389  0.00166945\n",
      " 0.0033389  0.0033389  0.0033389  0.0033389  0.0033389  0.0033389\n",
      " 0.0033389  0.0033389  0.0033389  0.00166945 0.00166945 0.0033389\n",
      " 0.00166945 0.0033389  0.0033389  0.00166945 0.0033389  0.0033389\n",
      " 0.0033389  0.0033389  0.0033389  0.0033389  0.00166945 0.00166945\n",
      " 0.0033389  0.0033389  0.00166945 0.0033389  0.00166945 0.0033389\n",
      " 0.00166945 0.0033389  0.00166945 0.00166945 0.0033389  0.00166945\n",
      " 0.00166945 0.0033389  0.0033389  0.0033389  0.0033389  0.00166945\n",
      " 0.0033389  0.0033389  0.00166945 0.0033389  0.0033389  0.0033389\n",
      " 0.0033389  0.0033389  0.00166945 0.00166945 0.00166945 0.00166945\n",
      " 0.0033389  0.0033389  0.0033389  0.0033389  0.00166945 0.00166945\n",
      " 0.00166945 0.0033389  0.0033389  0.00166945 0.0033389  0.00166945\n",
      " 0.0033389  0.00166945 0.0033389  0.00166945 0.0033389  0.0033389\n",
      " 0.00166945 0.0033389  0.00166945 0.00166945 0.0033389  0.0033389\n",
      " 0.00166945 0.0033389  0.00166945 0.00166945 0.00166945 0.0033389\n",
      " 0.0033389  0.0033389  0.0033389  0.0033389 ]\n",
      "[0.00157729 0.00157729 0.00157729 0.00157729 0.00315457 0.00315457\n",
      " 0.00315457 0.00315457 0.00315457 0.00157729 0.00157729 0.00315457\n",
      " 0.00315457 0.00315457 0.00157729 0.00157729 0.00157729 0.00315457\n",
      " 0.00157729 0.00157729 0.00315457 0.00315457 0.00315457 0.00315457\n",
      " 0.00315457 0.00315457 0.00315457 0.00315457 0.00315457 0.00157729\n",
      " 0.00315457 0.00157729 0.00157729 0.00157729 0.00315457 0.00315457\n",
      " 0.00157729 0.00315457 0.00315457 0.00157729 0.00315457 0.00315457\n",
      " 0.00315457 0.00315457 0.00315457 0.00315457 0.00157729 0.00315457\n",
      " 0.00315457 0.00157729 0.00315457 0.00315457 0.00157729 0.00315457\n",
      " 0.00315457 0.00157729 0.00315457 0.00315457 0.00157729 0.00157729\n",
      " 0.00315457 0.00157729 0.00315457 0.00315457 0.00315457 0.00157729\n",
      " 0.00315457 0.00315457 0.00157729 0.00157729 0.00315457 0.00315457\n",
      " 0.00315457 0.00315457 0.00315457 0.00315457 0.00315457 0.00315457\n",
      " 0.00315457 0.00315457 0.00157729 0.00315457 0.00157729 0.00157729\n",
      " 0.00315457 0.00157729 0.00315457 0.00315457 0.00157729 0.00315457\n",
      " 0.00315457 0.00157729 0.00315457 0.00315457 0.00315457 0.00157729\n",
      " 0.00315457 0.00315457 0.00157729 0.00157729]\n",
      "[0.0033389  0.0033389  0.0033389  0.0033389  0.00166945 0.0033389\n",
      " 0.00166945 0.0033389  0.00166945 0.0033389  0.0033389  0.00166945\n",
      " 0.0033389  0.0033389  0.0033389  0.0033389  0.0033389  0.0033389\n",
      " 0.0033389  0.0033389  0.0033389  0.00166945 0.00166945 0.0033389\n",
      " 0.00166945 0.0033389  0.0033389  0.00166945 0.0033389  0.0033389\n",
      " 0.0033389  0.0033389  0.0033389  0.0033389  0.00166945 0.00166945\n",
      " 0.0033389  0.0033389  0.00166945 0.0033389  0.00166945 0.0033389\n",
      " 0.00166945 0.0033389  0.00166945 0.00166945 0.0033389  0.00166945\n",
      " 0.00166945 0.0033389  0.0033389  0.0033389  0.0033389  0.00166945\n",
      " 0.0033389  0.0033389  0.00166945 0.0033389  0.0033389  0.0033389\n",
      " 0.0033389  0.0033389  0.00166945 0.00166945 0.00166945 0.00166945\n",
      " 0.0033389  0.0033389  0.0033389  0.0033389  0.00166945 0.00166945\n",
      " 0.00166945 0.0033389  0.0033389  0.00166945 0.0033389  0.00166945\n",
      " 0.0033389  0.00166945 0.0033389  0.00166945 0.0033389  0.0033389\n",
      " 0.00166945 0.0033389  0.00166945 0.00166945 0.0033389  0.0033389\n",
      " 0.00166945 0.0033389  0.00166945 0.00166945 0.00166945 0.0033389\n",
      " 0.0033389  0.0033389  0.0033389  0.0033389 ]\n"
     ]
    }
   ],
   "source": [
    "classifier = DecisionTreeClassifier(max_depth=1, random_state=1)\n",
    "classifier.fit(X=train_set, y=train_labels)\n",
    "alphas = []\n",
    "classifiers = []\n",
    "number_of_iterations = 10\n",
    "weights = np.ones((test_set_size,)) / test_set_size\n",
    "for iteration in range(number_of_iterations):\n",
    "    print(weights[:100])\n",
    "    model = train_model(classifier, weights)\n",
    "    weights = set_new_weights(model)\n",
    "    classifiers.append(model)"
   ]
  },
  {
   "cell_type": "markdown",
   "metadata": {},
   "source": [
    "Set the validation data set:"
   ]
  },
  {
   "cell_type": "markdown",
   "metadata": {},
   "source": [
    "Fill the prediction code:"
   ]
  },
  {
   "cell_type": "code",
   "execution_count": 40,
   "metadata": {},
   "outputs": [
    {
     "name": "stdout",
     "output_type": "stream",
     "text": [
      "[(0, 10)]\n",
      "[0]\n"
     ]
    }
   ],
   "source": [
    "from collections import Counter\n",
    "\n",
    "def get_prediction(x):\n",
    "    predicion = [classifier.predict(x).tolist()[0] for classifier in classifiers]\n",
    "    return Counter(predicion)\n",
    "\n",
    "validate_x, validate_label = generate_data(1, dimension, 2)\n",
    "prediction = get_prediction(validate_x).most_common()\n",
    "\n",
    "print(prediction)\n",
    "print(validate_label)"
   ]
  },
  {
   "cell_type": "markdown",
   "metadata": {},
   "source": [
    "Test it:"
   ]
  }
 ],
 "metadata": {
  "kernelspec": {
   "display_name": "Python 3",
   "language": "python",
   "name": "python3"
  },
  "language_info": {
   "codemirror_mode": {
    "name": "ipython",
    "version": 3
   },
   "file_extension": ".py",
   "mimetype": "text/x-python",
   "name": "python",
   "nbconvert_exporter": "python",
   "pygments_lexer": "ipython3",
   "version": "3.6.9"
  }
 },
 "nbformat": 4,
 "nbformat_minor": 4
}
